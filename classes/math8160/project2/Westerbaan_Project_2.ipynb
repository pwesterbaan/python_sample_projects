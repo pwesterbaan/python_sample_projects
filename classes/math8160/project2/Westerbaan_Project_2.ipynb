{
 "cells": [
  {
   "cell_type": "code",
   "execution_count": 1,
   "metadata": {},
   "outputs": [
    {
     "name": "stdout",
     "output_type": "stream",
     "text": [
      "All-pairs closed semigroup\n",
      "nodes: 7 ; arcs: 10 ; cost range: 0 - 5\n",
      "Percent high-cost: 5\n",
      "Random seed: 25\n"
     ]
    }
   ],
   "source": [
    "import graph as graph\n",
    "import semiring as sr\n",
    "import numpy as np\n",
    "\n",
    "# spgen problem-type n_nodes n_arcs cost_min cost_max [% high-cost [seed]]\n",
    "#./spgen2 sp 7 10 0 5 25 | tee sp_output_data\n",
    "\n",
    "\n",
    "#read in file and do the stuff\n",
    "with open(\"sp_output_data\",\"r\") as file:\n",
    "    for e in file:\n",
    "        current_line=e.split(\" \")\n",
    "        if 'c' == current_line[0]:\n",
    "            # print comment lines\n",
    "            print(\" \".join(current_line[1:]).strip(\"\\n\"))\n",
    "        if 'p' == current_line[0]:\n",
    "            # create semiring object based on \n",
    "            # problem type and size\n",
    "            probType=current_line[1]\n",
    "            nn=int(current_line[2])\n",
    "            if probType == 'sp':\n",
    "                sr_obj=sr.shortest_path(nn)\n",
    "            elif probType == 'mr':\n",
    "                sr_obj=sr.most_reliable(nn)\n",
    "            elif probType == 'mc':\n",
    "                sr_obj=sr.max_cap(nn)\n",
    "            elif probType == 'tc':\n",
    "                sr_obj=sr.trans_closure(nn)\n",
    "        if 'a' == current_line[0]:\n",
    "            i=int(current_line[1])\n",
    "            j=int(current_line[2])\n",
    "            val=int(current_line[3])\n",
    "            sr_obj.set_arc(i,j,val)"
   ]
  },
  {
   "cell_type": "code",
   "execution_count": 2,
   "metadata": {},
   "outputs": [
    {
     "name": "stdout",
     "output_type": "stream",
     "text": [
      "[inf  0.  0.  3.  2. inf  4.]\n",
      "[inf inf inf inf inf inf  5.]\n",
      "[inf inf inf inf  4. inf inf]\n",
      "[inf inf inf inf  5.  2. inf]\n",
      "[inf inf inf inf inf inf  4.]\n",
      "[inf inf inf inf inf inf inf]\n",
      "[inf inf inf inf inf inf inf]\n",
      "\n",
      "\n",
      "[ 0. inf inf inf inf inf inf]\n",
      "[inf  0. inf inf inf inf inf]\n",
      "[inf inf  0. inf inf inf inf]\n",
      "[inf inf inf  0. inf inf inf]\n",
      "[inf inf inf inf  0. inf inf]\n",
      "[inf inf inf inf inf  0. inf]\n",
      "[inf inf inf inf inf inf  0.]\n",
      "\n",
      "\n",
      "[None, None, None, None, None, None, None]\n",
      "[None, None, None, None, None, None, None]\n",
      "[None, None, None, None, None, None, None]\n",
      "[None, None, None, None, None, None, None]\n",
      "[None, None, None, None, None, None, None]\n",
      "[None, None, None, None, None, None, None]\n",
      "[None, None, None, None, None, None, None]\n"
     ]
    }
   ],
   "source": [
    "for aij in sr_obj.get_arcsMat():\n",
    "    print(aij)\n",
    "print('\\n')\n",
    "for weightList in sr_obj.get_weightMat():\n",
    "    print(weightList)\n",
    "print('\\n')\n",
    "for path in sr_obj.get_predMat():\n",
    "    print(path)"
   ]
  },
  {
   "cell_type": "code",
   "execution_count": 3,
   "metadata": {},
   "outputs": [],
   "source": [
    "import itertools\n",
    "\n",
    "for source in range(nn):\n",
    "    for v in range(nn):\n",
    "        label_v=sr_obj.get_weight(source,v)\n",
    "        for w in itertools.chain(range(v),range(v+1,nn)):\n",
    "            label_w=sr_obj.get_weight(source,w)\n",
    "            a_vw=sr_obj.get_arc(v,w)\n",
    "            #compare label_w with ext(a_vw,label_v)\n",
    "            tmp_label_w=sr_obj.updateOp(label_w,a_vw,label_v)\n",
    "            if label_w > tmp_label_w:\n",
    "                sr_obj.set_weight(source,w,tmp_label_w)\n",
    "                sr_obj.set_pred(source,w,v)"
   ]
  },
  {
   "cell_type": "code",
   "execution_count": 4,
   "metadata": {
    "scrolled": true
   },
   "outputs": [
    {
     "name": "stdout",
     "output_type": "stream",
     "text": [
      "[0. 0. 0. 3. 2. 5. 4.]\n",
      "[inf  0. inf inf inf inf  5.]\n",
      "[inf inf  0. inf  4. inf  8.]\n",
      "[inf inf inf  0.  5.  2.  9.]\n",
      "[inf inf inf inf  0. inf  4.]\n",
      "[inf inf inf inf inf  0. inf]\n",
      "[inf inf inf inf inf inf  0.]\n",
      "\n",
      "\n",
      "[None, 0, 0, 0, 0, 3, 0]\n",
      "[None, None, None, None, None, None, 1]\n",
      "[None, None, None, None, 2, None, 4]\n",
      "[None, None, None, None, 3, 3, 4]\n",
      "[None, None, None, None, None, None, 4]\n",
      "[None, None, None, None, None, None, None]\n",
      "[None, None, None, None, None, None, None]\n"
     ]
    }
   ],
   "source": [
    "for weightList in sr_obj.get_weightMat():\n",
    "    print(weightList)\n",
    "print('\\n')\n",
    "for path in sr_obj.get_predMat():\n",
    "    print(path)"
   ]
  }
 ],
 "metadata": {
  "kernelspec": {
   "display_name": "Python 3",
   "language": "python",
   "name": "python3"
  },
  "language_info": {
   "codemirror_mode": {
    "name": "ipython",
    "version": 3
   },
   "file_extension": ".py",
   "mimetype": "text/x-python",
   "name": "python",
   "nbconvert_exporter": "python",
   "pygments_lexer": "ipython3",
   "version": "3.8.10"
  }
 },
 "nbformat": 4,
 "nbformat_minor": 4
}
