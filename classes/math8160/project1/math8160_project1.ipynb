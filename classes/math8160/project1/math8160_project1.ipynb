{
 "cells": [
  {
   "cell_type": "code",
   "execution_count": null,
   "metadata": {
    "cocalc": {
     "outputs": {
      "0": {
       "name": "input",
       "opts": {
        "password": false,
        "prompt": "Enter a value for n:"
       },
       "output_type": "stream",
       "value": "5"
      }
     }
    }
   },
   "outputs": [],
   "source": [
    "nn=int(input(\"Enter a value for n: \"))\n",
    "mm=int(input(\"Enter a value for m: \"))\n",
    "#exception handler for non-positive values\n",
    "grid=''\n",
    "grid+='__'*mm+'_\\n'\n",
    "for _ in range(nn):\n",
    "    #We will have to do some trickery here when \"deleting\" cell walls\n",
    "    grid+='|_'*mm+'|\\n'\n",
    "print(grid)"
   ]
  },
  {
   "cell_type": "code",
   "execution_count": null,
   "metadata": {},
   "outputs": [],
   "source": [
    "import graph as graph\n",
    "import random\n",
    "\n",
    "random.seed(500)\n",
    "\n",
    "nn=2\n",
    "mm=3\n",
    "arrayOfVertices=[[None]*(mm) for _ in range(nn)]\n",
    "myMaze=graph.Graph()\n",
    "for j in range(mm):\n",
    "    for i in range(nn):\n",
    "        u=myMaze.insert_vertex((i,j))\n",
    "        arrayOfVertices[i][j]=u\n",
    "        if i>0:\n",
    "            v=arrayOfVertices[i-1][j]\n",
    "            myMaze.insert_edge(u,v,random.random())\n",
    "#             print(myMaze.get_edge(u,v))\n",
    "        if j>0:\n",
    "            v=arrayOfVertices[i][j-1]\n",
    "            myMaze.insert_edge(u,v,random.random())\n",
    "#             print(myMaze.get_edge(u,v))\n",
    "\n",
    "# print(arrayOfVertices[4][2].element())\n",
    "print(len(myMaze.edges()))\n",
    "for edge in myMaze.edges():\n",
    "     print(edge.element())\n",
    "\n",
    "for edge in myMaze.incident_edges(arrayOfVertices[0][1]):\n",
    "    print(edge)"
   ]
  },
  {
   "cell_type": "code",
   "execution_count": null,
   "metadata": {},
   "outputs": [],
   "source": [
    "outgoingEdges=set()\n",
    "u=arrayOfVertices[1][1]\n",
    "v=arrayOfVertices[0][1]\n",
    "w=arrayOfVertices[1][0]\n",
    "outgoingEdges.add(myMaze.get_edge(u,v))\n",
    "outgoingEdges.add(myMaze.get_edge(v,u))\n",
    "outgoingEdges.add(myMaze.get_edge(w,u))\n",
    "print(outgoingEdges.pop())\n",
    "# print(outgoingEdges.count(myMaze.get_edge(v,u)))\n",
    "# print(outgoingEdges.count(myMaze.get_edge(u,w)))\n",
    "myDict={\"stuff\":\"things\"}\n",
    "print(myDict)\n",
    "print([edge.element() for edge in myMaze.incident_edges(arrayOfVertices[1][1])])"
   ]
  }
 ],
 "metadata": {
  "kernelspec": {
   "display_name": "Python 3",
   "language": "python",
   "name": "python3"
  },
  "language_info": {
   "codemirror_mode": {
    "name": "ipython",
    "version": 3
   },
   "file_extension": ".py",
   "mimetype": "text/x-python",
   "name": "python",
   "nbconvert_exporter": "python",
   "pygments_lexer": "ipython3",
   "version": "3.8.10"
  }
 },
 "nbformat": 4,
 "nbformat_minor": 4
}
