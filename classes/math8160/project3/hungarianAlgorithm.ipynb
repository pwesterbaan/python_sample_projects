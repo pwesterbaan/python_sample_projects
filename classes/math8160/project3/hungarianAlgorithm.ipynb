{
 "cells": [
  {
   "cell_type": "code",
   "execution_count": 1,
   "metadata": {},
   "outputs": [
    {
     "name": "stdout",
     "output_type": "stream",
     "text": [
      "[[ 1 17 14  8  7 13]\n",
      " [13 17 17  9  2 10]\n",
      " [18 19 13  6  8 15]\n",
      " [10 14 13 13  2 13]\n",
      " [10 14 11  9  2 18]\n",
      " [15 15 19  5  5 16]]\n"
     ]
    }
   ],
   "source": [
    "import numpy as np\n",
    "\n",
    "nn=6; mm=6;\n",
    "\n",
    "maxVal=20;\n",
    "\n",
    "rowLines=[x for x in range(nn)]\n",
    "colLines=[y for y in range(mm)]\n",
    "assignments=[]\n",
    "removedRows=[]\n",
    "removedCols=[]\n",
    "\n",
    "np.random.seed(500)\n",
    "costMatrix=np.random.randint(maxVal,size=(nn,mm))\n",
    "\n",
    "#ensure costMatrix is square\n",
    "if nn<mm:\n",
    "    #add rows of +M when nn<mm\n",
    "    costMatrix=np.append(costMatrix,5*maxVal*np.ones((mm-nn,mm)),axis=0)\n",
    "elif nn>mm:\n",
    "    #add columns of zeros when mm<nn\n",
    "    costMatrix=np.append(costMatrix,np.zeros((nn,nn-mm)),axis=1)\n",
    "\n",
    "print(costMatrix)\n",
    "OG_costMatrix=costMatrix.copy();"
   ]
  },
  {
   "cell_type": "code",
   "execution_count": 2,
   "metadata": {},
   "outputs": [
    {
     "name": "stdout",
     "output_type": "stream",
     "text": [
      "[[ 0  2  5  6  6  4]\n",
      " [11  1  7  6  0  0]\n",
      " [13  0  0  0  3  2]\n",
      " [10  0  5 12  2  5]\n",
      " [10  0  3  8  2 10]\n",
      " [14  0 10  3  4  7]]\n"
     ]
    }
   ],
   "source": [
    "for ind in range(max(nn,mm)):\n",
    "    if ind <nn:\n",
    "        #step 1: subtract min number in row from that row\n",
    "        costMatrix[ind,:]=np.subtract(costMatrix[ind,:],costMatrix[ind,:].min())\n",
    "    if ind <mm:\n",
    "        #step 2: subtract min number in col from that col\n",
    "        costMatrix[:,ind]=np.subtract(costMatrix[:,ind],costMatrix[:,ind].min())\n",
    "\n",
    "print(costMatrix)"
   ]
  },
  {
   "cell_type": "code",
   "execution_count": 3,
   "metadata": {
    "scrolled": false
   },
   "outputs": [
    {
     "name": "stdout",
     "output_type": "stream",
     "text": [
      "cost matrix: \n",
      "[[ 1 17 14  8  7 13]\n",
      " [13 17 17  9  2 10]\n",
      " [18 19 13  6  8 15]\n",
      " [10 14 13 13  2 13]\n",
      " [10 14 11  9  2 18]\n",
      " [15 15 19  5  5 16]]\n",
      "\n",
      "assignments: [(0, 0), (1, 5), (4, 3), (2, 2), (5, 1), (3, 4)]\n",
      "Total assignment cost: 50\n"
     ]
    }
   ],
   "source": [
    "while len(assignments)<max(nn,mm):\n",
    "    #Step 4 (min is zero after step 2)\n",
    "    ixgrid=np.ix_(rowLines,colLines)\n",
    "    d=costMatrix[ixgrid].min()\n",
    "    costMatrix[ixgrid]=np.subtract(costMatrix[ixgrid],d)\n",
    "    for rowInd in removedRows:\n",
    "        for colInd in removedCols:\n",
    "            costMatrix[rowInd,colInd]+=d\n",
    "\n",
    "    rowLines=[x for x in range(nn)]\n",
    "    colLines=[y for y in range(mm)]\n",
    "    removedRows=[]\n",
    "    removedCols=[]\n",
    "    assignments=[]\n",
    "\n",
    "    #step 3: draw min number of lines to cover all zeros\n",
    "    crossOutZeros=True\n",
    "    while crossOutZeros:\n",
    "        crossOutZeros=False\n",
    "\n",
    "        ixgrid=np.ix_(rowLines,colLines)\n",
    "        ##Used to \"cross out\" zeros\n",
    "        subMatrix=5*maxVal*np.ones((nn,mm))\n",
    "        subMatrix[ixgrid]=costMatrix[ixgrid]\n",
    "        numRowZeros=np.count_nonzero(subMatrix==0,axis=1)\n",
    "        numColZeros=np.count_nonzero(subMatrix==0,axis=0)\n",
    "\n",
    "        maxNumRowZeros=np.amax(numRowZeros)\n",
    "        maxNumColZeros=np.amax(numColZeros)\n",
    "        if np.count_nonzero(numColZeros==1) < np.count_nonzero(numRowZeros==1):\n",
    "            if maxNumRowZeros>0:\n",
    "                rowToZero=np.where(numRowZeros==1)[0]\n",
    "                crossOutZeros=True\n",
    "                if len(rowToZero)>0:\n",
    "                    colIndex=np.where(subMatrix[int(rowToZero[0]),:]==0)[0]\n",
    "                    if len(colIndex)>0:\n",
    "                        colLines.remove(int(colIndex[0]))\n",
    "                        removedCols.append(int(colIndex[0]))\n",
    "                        assignments.append((int(rowToZero[0]),int(colIndex[0])))\n",
    "                else:\n",
    "                    if maxNumRowZeros > maxNumColZeros:\n",
    "                        rowToZero=np.where(numRowZeros==maxNumRowZeros)[0]\n",
    "                        colIndex=np.where(subMatrix[int(rowToZero[0]),:]==0)[0]\n",
    "                        if len(colIndex)>0:\n",
    "                            colLines.remove(int(colIndex[0]))\n",
    "                            removedCols.append(int(colIndex[0]))\n",
    "                            assignments.append((int(rowToZero[0]),int(colIndex[0])))\n",
    "                    else:\n",
    "                        colToZero=np.where(numColZeros==maxNumColZeros)[0]\n",
    "                        rowIndex=np.where(subMatrix[:,int(colToZero[0])]==0)[0]\n",
    "                        if len(rowIndex)>0:\n",
    "                            rowLines.remove(int(rowIndex[0]))\n",
    "                            removedRows.append(int(rowIndex[0]))\n",
    "                            assignments.append((int(rowIndex[0]),int(colToZero[0])))\n",
    "        else:\n",
    "            if maxNumColZeros>0:\n",
    "                colToZero=np.where(numColZeros==1)[0]\n",
    "                crossOutZeros=True\n",
    "                if len(colToZero)>0:\n",
    "                    rowIndex=np.where(subMatrix[:,int(colToZero[0])]==0)[0]\n",
    "                    if len(rowIndex)>0:\n",
    "                        rowLines.remove(int(rowIndex[0]))\n",
    "                        removedRows.append(int(rowIndex[0]))\n",
    "                        assignments.append((int(rowIndex[0]),int(colToZero[0])))\n",
    "                else:\n",
    "                    if maxNumColZeros > maxNumRowZeros:\n",
    "                        colToZero=np.where(numColZeros==maxNumColZeros)[0]\n",
    "                        rowIndex=np.where(subMatrix[int(colToZero[0]),:]==0)[0]\n",
    "                        if len(rowIndex)>0:\n",
    "                            colLines.remove(int(rowIndex[0]))\n",
    "                            removedCols.append(int(rowIndex[0]))\n",
    "                            assignments.append((int(rowIndex[0]),int(colToZero[0])))\n",
    "                    else:\n",
    "                        rowToZero=np.where(numRowZeros==maxNumRowZeros)[0]\n",
    "                        colIndex=np.where(subMatrix[:,int(rowToZero[0])]==0)[0]\n",
    "                        if len(colIndex)>0:\n",
    "                            colLines.remove(int(colIndex[0]))\n",
    "                            removedCols.append(int(colIndex[0]))\n",
    "                            assignments.append((int(rowToZero[0]),int(colIndex[0])))\n",
    "\n",
    "# ixgrid=np.ix_(rowLines,colLines)\n",
    "# print(f\"\\nrowLines: {rowLines}\")\n",
    "# print(f\"colLines: {colLines}\")\n",
    "# ##Used to \"cross out\" zeros\n",
    "# subMatrix=5*maxVal*np.ones((nn,mm))\n",
    "# subMatrix[ixgrid]=costMatrix[ixgrid]\n",
    "# numRowZeros=np.count_nonzero(subMatrix==0,axis=1)\n",
    "# numColZeros=np.count_nonzero(subMatrix==0,axis=0)\n",
    "# print(f\"submatrix: \\n{subMatrix}\")\n",
    "# print(f\"numRowZeros: {numRowZeros}\")\n",
    "# print(f\"numColZeros: {numColZeros}\")\n",
    "print(f\"cost matrix: \\n{OG_costMatrix}\\n\")\n",
    "print(f\"assignments: {assignments}\")\n",
    "totalCost=0;\n",
    "for assignment in assignments:\n",
    "    totalCost+=OG_costMatrix[assignment]\n",
    "print(f\"\"\"Total assignment cost: {totalCost}\"\"\")"
   ]
  }
 ],
 "metadata": {
  "kernelspec": {
   "display_name": "Python 3",
   "language": "python",
   "name": "python3"
  },
  "language_info": {
   "codemirror_mode": {
    "name": "ipython",
    "version": 3
   },
   "file_extension": ".py",
   "mimetype": "text/x-python",
   "name": "python",
   "nbconvert_exporter": "python",
   "pygments_lexer": "ipython3",
   "version": "3.8.10"
  }
 },
 "nbformat": 4,
 "nbformat_minor": 4
}
